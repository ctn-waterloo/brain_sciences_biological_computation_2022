{
 "cells": [
  {
   "cell_type": "code",
   "execution_count": 49,
   "metadata": {},
   "outputs": [],
   "source": [
    "import sys, os\n",
    "sys.path.append(os.path.join('..', 'scripts'))\n",
    "sys.path.append(os.path.join('..', 'scripts/llp_bouncing'))\n",
    "import figure_utils as utils\n",
    "import lif_utils\n",
    "import predict_llp\n",
    "import predict_llp_ssp\n",
    "\n",
    "import numpy as np\n",
    "import matplotlib as mpl\n",
    "import matplotlib.pyplot as plt\n",
    "import matplotlib.cm as cm\n",
    "\n",
    "import pytry\n",
    "import os.path\n",
    "\n",
    "import glob"
   ]
  },
  {
   "cell_type": "code",
   "execution_count": 2,
   "metadata": {},
   "outputs": [
    {
     "data": {
      "application/vdom.v1+json": {
       "attributes": {},
       "tagName": "div"
      },
      "text/html": [
       "\n",
       "                <script>\n",
       "                    if (Jupyter.version.split(\".\")[0] < 5) {\n",
       "                        var pb = document.getElementById(\"c2c3bbf9-3e0f-41ae-9df4-2af0ae9ece18\");\n",
       "                        var text = document.createTextNode(\n",
       "                            \"HMTL progress bar requires Jupyter Notebook >= \" +\n",
       "                            \"5.0 or Jupyter Lab. Alternatively, you can use \" +\n",
       "                            \"TerminalProgressBar().\");\n",
       "                        pb.parentNode.insertBefore(text, pb);\n",
       "                    }\n",
       "                </script>\n",
       "                <div id=\"c2c3bbf9-3e0f-41ae-9df4-2af0ae9ece18\" style=\"\n",
       "                    width: 100%;\n",
       "                    border: 1px solid #cfcfcf;\n",
       "                    border-radius: 4px;\n",
       "                    text-align: center;\n",
       "                    position: relative;\">\n",
       "                  <div class=\"pb-text\" style=\"\n",
       "                      position: absolute;\n",
       "                      width: 100%;\">\n",
       "                    0%\n",
       "                  </div>\n",
       "                  <div class=\"pb-fill\" style=\"\n",
       "                      background-color: #bdd2e6;\n",
       "                      width: 0%;\">\n",
       "                    <style type=\"text/css\" scoped=\"scoped\">\n",
       "                        @keyframes pb-fill-anim {\n",
       "                            0% { background-position: 0 0; }\n",
       "                            100% { background-position: 100px 0; }\n",
       "                        }\n",
       "                    </style>\n",
       "                    &nbsp;\n",
       "                  </div>\n",
       "                </div>"
      ],
      "text/plain": [
       "HtmlProgressBar cannot be displayed. Please use the TerminalProgressBar. It can be enabled with `nengo.rc['progress']['progress_bar'] = 'nengo.utils.progress.TerminalProgressBar'`."
      ]
     },
     "metadata": {},
     "output_type": "display_data"
    },
    {
     "data": {
      "application/vdom.v1+json": {
       "attributes": {
        "id": "12780432-1258-4426-b346-15943868fef1",
        "style": {
         "border": "1px solid #cfcfcf",
         "borderRadius": "4px",
         "boxSizing": "border-box",
         "position": "relative",
         "textAlign": "center",
         "width": "100%"
        }
       },
       "children": [
        {
         "attributes": {
          "class": "pb-text",
          "style": {
           "position": "absolute",
           "width": "100%"
          }
         },
         "children": [
          "Build finished in 0:00:01."
         ],
         "tagName": "div"
        },
        {
         "attributes": {
          "class": "pb-fill",
          "style": {
           "animation": "none",
           "backgroundColor": "#bdd2e6",
           "backgroundImage": "none",
           "backgroundSize": "100px 100%",
           "width": "100%"
          }
         },
         "children": [
          {
           "attributes": {
            "scoped": "scoped",
            "type": "text/css"
           },
           "children": [
            "\n                        @keyframes pb-fill-anim {\n                            0% { background-position: 0 0; }\n                            100% { background-position: 100px 0; }\n                        }}"
           ],
           "tagName": "style"
          },
          " "
         ],
         "tagName": "div"
        }
       ],
       "tagName": "div"
      },
      "text/html": [
       "<script>\n",
       "              (function () {\n",
       "                  var root = document.getElementById('c2c3bbf9-3e0f-41ae-9df4-2af0ae9ece18');\n",
       "                  var text = root.getElementsByClassName('pb-text')[0];\n",
       "                  var fill = root.getElementsByClassName('pb-fill')[0];\n",
       "\n",
       "                  text.innerHTML = 'Build finished in 0:00:01.';\n",
       "                  \n",
       "            fill.style.width = '100%';\n",
       "            fill.style.animation = 'pb-fill-anim 2s linear infinite';\n",
       "            fill.style.backgroundSize = '100px 100%';\n",
       "            fill.style.backgroundImage = 'repeating-linear-gradient(' +\n",
       "                '90deg, #bdd2e6, #edf2f8 40%, #bdd2e6 80%, #bdd2e6)';\n",
       "        \n",
       "                  \n",
       "                fill.style.animation = 'none';\n",
       "                fill.style.backgroundImage = 'none';\n",
       "            \n",
       "              })();\n",
       "        </script>"
      ]
     },
     "metadata": {},
     "output_type": "display_data"
    },
    {
     "data": {
      "application/vdom.v1+json": {
       "attributes": {},
       "tagName": "div"
      },
      "text/html": [
       "\n",
       "                <script>\n",
       "                    if (Jupyter.version.split(\".\")[0] < 5) {\n",
       "                        var pb = document.getElementById(\"be0eaf89-4633-49a9-b69e-165768b88185\");\n",
       "                        var text = document.createTextNode(\n",
       "                            \"HMTL progress bar requires Jupyter Notebook >= \" +\n",
       "                            \"5.0 or Jupyter Lab. Alternatively, you can use \" +\n",
       "                            \"TerminalProgressBar().\");\n",
       "                        pb.parentNode.insertBefore(text, pb);\n",
       "                    }\n",
       "                </script>\n",
       "                <div id=\"be0eaf89-4633-49a9-b69e-165768b88185\" style=\"\n",
       "                    width: 100%;\n",
       "                    border: 1px solid #cfcfcf;\n",
       "                    border-radius: 4px;\n",
       "                    text-align: center;\n",
       "                    position: relative;\">\n",
       "                  <div class=\"pb-text\" style=\"\n",
       "                      position: absolute;\n",
       "                      width: 100%;\">\n",
       "                    0%\n",
       "                  </div>\n",
       "                  <div class=\"pb-fill\" style=\"\n",
       "                      background-color: #bdd2e6;\n",
       "                      width: 0%;\">\n",
       "                    <style type=\"text/css\" scoped=\"scoped\">\n",
       "                        @keyframes pb-fill-anim {\n",
       "                            0% { background-position: 0 0; }\n",
       "                            100% { background-position: 100px 0; }\n",
       "                        }\n",
       "                    </style>\n",
       "                    &nbsp;\n",
       "                  </div>\n",
       "                </div>"
      ],
      "text/plain": [
       "HtmlProgressBar cannot be displayed. Please use the TerminalProgressBar. It can be enabled with `nengo.rc['progress']['progress_bar'] = 'nengo.utils.progress.TerminalProgressBar'`."
      ]
     },
     "metadata": {},
     "output_type": "display_data"
    },
    {
     "data": {
      "application/vdom.v1+json": {
       "attributes": {
        "id": "6550588d-c558-4505-a963-50a073a09013",
        "style": {
         "border": "1px solid #cfcfcf",
         "borderRadius": "4px",
         "boxSizing": "border-box",
         "position": "relative",
         "textAlign": "center",
         "width": "100%"
        }
       },
       "children": [
        {
         "attributes": {
          "class": "pb-text",
          "style": {
           "position": "absolute",
           "width": "100%"
          }
         },
         "children": [
          "Simulation finished in 0:23:30."
         ],
         "tagName": "div"
        },
        {
         "attributes": {
          "class": "pb-fill",
          "style": {
           "animation": "none",
           "backgroundColor": "#bdd2e6",
           "backgroundImage": "none",
           "transition": "width 0.1s linear",
           "width": "100%"
          }
         },
         "children": [
          {
           "attributes": {
            "scoped": "scoped",
            "type": "text/css"
           },
           "children": [
            "\n                        @keyframes pb-fill-anim {\n                            0% { background-position: 0 0; }\n                            100% { background-position: 100px 0; }\n                        }}"
           ],
           "tagName": "style"
          },
          " "
         ],
         "tagName": "div"
        }
       ],
       "tagName": "div"
      },
      "text/html": [
       "<script>\n",
       "              (function () {\n",
       "                  var root = document.getElementById('be0eaf89-4633-49a9-b69e-165768b88185');\n",
       "                  var text = root.getElementsByClassName('pb-text')[0];\n",
       "                  var fill = root.getElementsByClassName('pb-fill')[0];\n",
       "\n",
       "                  text.innerHTML = 'Simulation finished in 0:23:30.';\n",
       "                  \n",
       "            if (100.0 > 0.) {\n",
       "                fill.style.transition = 'width 0.1s linear';\n",
       "            } else {\n",
       "                fill.style.transition = 'none';\n",
       "            }\n",
       "\n",
       "            fill.style.width = '100.0%';\n",
       "            fill.style.animation = 'none';\n",
       "            fill.style.backgroundImage = 'none'\n",
       "        \n",
       "                  \n",
       "                fill.style.animation = 'none';\n",
       "                fill.style.backgroundImage = 'none';\n",
       "            \n",
       "              })();\n",
       "        </script>"
      ]
     },
     "metadata": {},
     "output_type": "display_data"
    }
   ],
   "source": [
    "lmu_time, lmu_env, lmu_pred_x, lmu_pred_y = predict_llp.run_trial(q=10,theta=0.5,pred_steps=10,duration=400)"
   ]
  },
  {
   "cell_type": "code",
   "execution_count": 50,
   "metadata": {},
   "outputs": [
    {
     "data": {
      "application/vdom.v1+json": {
       "attributes": {},
       "tagName": "div"
      },
      "text/html": [
       "\n",
       "                <script>\n",
       "                    if (Jupyter.version.split(\".\")[0] < 5) {\n",
       "                        var pb = document.getElementById(\"217d21d0-b5c1-4f45-b028-24a0a398ade9\");\n",
       "                        var text = document.createTextNode(\n",
       "                            \"HMTL progress bar requires Jupyter Notebook >= \" +\n",
       "                            \"5.0 or Jupyter Lab. Alternatively, you can use \" +\n",
       "                            \"TerminalProgressBar().\");\n",
       "                        pb.parentNode.insertBefore(text, pb);\n",
       "                    }\n",
       "                </script>\n",
       "                <div id=\"217d21d0-b5c1-4f45-b028-24a0a398ade9\" style=\"\n",
       "                    width: 100%;\n",
       "                    border: 1px solid #cfcfcf;\n",
       "                    border-radius: 4px;\n",
       "                    text-align: center;\n",
       "                    position: relative;\">\n",
       "                  <div class=\"pb-text\" style=\"\n",
       "                      position: absolute;\n",
       "                      width: 100%;\">\n",
       "                    0%\n",
       "                  </div>\n",
       "                  <div class=\"pb-fill\" style=\"\n",
       "                      background-color: #bdd2e6;\n",
       "                      width: 0%;\">\n",
       "                    <style type=\"text/css\" scoped=\"scoped\">\n",
       "                        @keyframes pb-fill-anim {\n",
       "                            0% { background-position: 0 0; }\n",
       "                            100% { background-position: 100px 0; }\n",
       "                        }\n",
       "                    </style>\n",
       "                    &nbsp;\n",
       "                  </div>\n",
       "                </div>"
      ],
      "text/plain": [
       "HtmlProgressBar cannot be displayed. Please use the TerminalProgressBar. It can be enabled with `nengo.rc['progress']['progress_bar'] = 'nengo.utils.progress.TerminalProgressBar'`."
      ]
     },
     "metadata": {},
     "output_type": "display_data"
    },
    {
     "data": {
      "application/vdom.v1+json": {
       "attributes": {
        "id": "4428921b-3ff0-4fff-af96-03082489db83",
        "style": {
         "border": "1px solid #cfcfcf",
         "borderRadius": "4px",
         "boxSizing": "border-box",
         "position": "relative",
         "textAlign": "center",
         "width": "100%"
        }
       },
       "children": [
        {
         "attributes": {
          "class": "pb-text",
          "style": {
           "position": "absolute",
           "width": "100%"
          }
         },
         "children": [
          "Build finished in 0:00:01."
         ],
         "tagName": "div"
        },
        {
         "attributes": {
          "class": "pb-fill",
          "style": {
           "animation": "none",
           "backgroundColor": "#bdd2e6",
           "backgroundImage": "none",
           "backgroundSize": "100px 100%",
           "width": "100%"
          }
         },
         "children": [
          {
           "attributes": {
            "scoped": "scoped",
            "type": "text/css"
           },
           "children": [
            "\n                        @keyframes pb-fill-anim {\n                            0% { background-position: 0 0; }\n                            100% { background-position: 100px 0; }\n                        }}"
           ],
           "tagName": "style"
          },
          " "
         ],
         "tagName": "div"
        }
       ],
       "tagName": "div"
      },
      "text/html": [
       "<script>\n",
       "              (function () {\n",
       "                  var root = document.getElementById('217d21d0-b5c1-4f45-b028-24a0a398ade9');\n",
       "                  var text = root.getElementsByClassName('pb-text')[0];\n",
       "                  var fill = root.getElementsByClassName('pb-fill')[0];\n",
       "\n",
       "                  text.innerHTML = 'Build finished in 0:00:01.';\n",
       "                  \n",
       "            fill.style.width = '100%';\n",
       "            fill.style.animation = 'pb-fill-anim 2s linear infinite';\n",
       "            fill.style.backgroundSize = '100px 100%';\n",
       "            fill.style.backgroundImage = 'repeating-linear-gradient(' +\n",
       "                '90deg, #bdd2e6, #edf2f8 40%, #bdd2e6 80%, #bdd2e6)';\n",
       "        \n",
       "                  \n",
       "                fill.style.animation = 'none';\n",
       "                fill.style.backgroundImage = 'none';\n",
       "            \n",
       "              })();\n",
       "        </script>"
      ]
     },
     "metadata": {},
     "output_type": "display_data"
    },
    {
     "data": {
      "application/vdom.v1+json": {
       "attributes": {},
       "tagName": "div"
      },
      "text/html": [
       "\n",
       "                <script>\n",
       "                    if (Jupyter.version.split(\".\")[0] < 5) {\n",
       "                        var pb = document.getElementById(\"1b299e01-b9ef-431a-93a2-5c784dfd030d\");\n",
       "                        var text = document.createTextNode(\n",
       "                            \"HMTL progress bar requires Jupyter Notebook >= \" +\n",
       "                            \"5.0 or Jupyter Lab. Alternatively, you can use \" +\n",
       "                            \"TerminalProgressBar().\");\n",
       "                        pb.parentNode.insertBefore(text, pb);\n",
       "                    }\n",
       "                </script>\n",
       "                <div id=\"1b299e01-b9ef-431a-93a2-5c784dfd030d\" style=\"\n",
       "                    width: 100%;\n",
       "                    border: 1px solid #cfcfcf;\n",
       "                    border-radius: 4px;\n",
       "                    text-align: center;\n",
       "                    position: relative;\">\n",
       "                  <div class=\"pb-text\" style=\"\n",
       "                      position: absolute;\n",
       "                      width: 100%;\">\n",
       "                    0%\n",
       "                  </div>\n",
       "                  <div class=\"pb-fill\" style=\"\n",
       "                      background-color: #bdd2e6;\n",
       "                      width: 0%;\">\n",
       "                    <style type=\"text/css\" scoped=\"scoped\">\n",
       "                        @keyframes pb-fill-anim {\n",
       "                            0% { background-position: 0 0; }\n",
       "                            100% { background-position: 100px 0; }\n",
       "                        }\n",
       "                    </style>\n",
       "                    &nbsp;\n",
       "                  </div>\n",
       "                </div>"
      ],
      "text/plain": [
       "HtmlProgressBar cannot be displayed. Please use the TerminalProgressBar. It can be enabled with `nengo.rc['progress']['progress_bar'] = 'nengo.utils.progress.TerminalProgressBar'`."
      ]
     },
     "metadata": {},
     "output_type": "display_data"
    },
    {
     "data": {
      "application/vdom.v1+json": {
       "attributes": {
        "id": "60b385bc-cfaa-4e70-946a-c23cd1251257",
        "style": {
         "border": "1px solid #cfcfcf",
         "borderRadius": "4px",
         "boxSizing": "border-box",
         "position": "relative",
         "textAlign": "center",
         "width": "100%"
        }
       },
       "children": [
        {
         "attributes": {
          "class": "pb-text",
          "style": {
           "position": "absolute",
           "width": "100%"
          }
         },
         "children": [
          "Simulation finished in 0:26:28."
         ],
         "tagName": "div"
        },
        {
         "attributes": {
          "class": "pb-fill",
          "style": {
           "animation": "none",
           "backgroundColor": "#bdd2e6",
           "backgroundImage": "none",
           "transition": "width 0.1s linear",
           "width": "100%"
          }
         },
         "children": [
          {
           "attributes": {
            "scoped": "scoped",
            "type": "text/css"
           },
           "children": [
            "\n                        @keyframes pb-fill-anim {\n                            0% { background-position: 0 0; }\n                            100% { background-position: 100px 0; }\n                        }}"
           ],
           "tagName": "style"
          },
          " "
         ],
         "tagName": "div"
        }
       ],
       "tagName": "div"
      },
      "text/html": [
       "<script>\n",
       "              (function () {\n",
       "                  var root = document.getElementById('1b299e01-b9ef-431a-93a2-5c784dfd030d');\n",
       "                  var text = root.getElementsByClassName('pb-text')[0];\n",
       "                  var fill = root.getElementsByClassName('pb-fill')[0];\n",
       "\n",
       "                  text.innerHTML = 'Simulation finished in 0:26:28.';\n",
       "                  \n",
       "            if (100.0 > 0.) {\n",
       "                fill.style.transition = 'width 0.1s linear';\n",
       "            } else {\n",
       "                fill.style.transition = 'none';\n",
       "            }\n",
       "\n",
       "            fill.style.width = '100.0%';\n",
       "            fill.style.animation = 'none';\n",
       "            fill.style.backgroundImage = 'none'\n",
       "        \n",
       "                  \n",
       "                fill.style.animation = 'none';\n",
       "                fill.style.backgroundImage = 'none';\n",
       "            \n",
       "              })();\n",
       "        </script>"
      ]
     },
     "metadata": {},
     "output_type": "display_data"
    }
   ],
   "source": [
    "ssp_time, ssp_env, ssp_pred_x, ssp_pred_y = predict_llp_ssp.run_trial(q=10,theta=0.5,pred_steps=10,duration=400)"
   ]
  },
  {
   "cell_type": "code",
   "execution_count": 70,
   "metadata": {},
   "outputs": [],
   "source": [
    "dt=1e-3\n",
    "window=int(0.5/dt)\n",
    "\n",
    "def rmse(xs):\n",
    "    return np.sqrt(np.mean(np.power(xs,2)))\n",
    "\n",
    "def smooth(x, window_len):\n",
    "    s=np.r_[x[window_len-1:0:-1],x,x[-2:-window_len-1:-1]]\n",
    "    w=np.ones(window_len,'d')\n",
    "\n",
    "    return np.convolve(w/w.sum(),s,mode='valid')\n",
    "### end smooth\n",
    "\n",
    "def smooth_error(env, pred_x, pred_y, time, window):\n",
    "    num_steps = env.shape[0]\n",
    "    real_xs = env[:,0]\n",
    "    real_ys = env[:,1]\n",
    "    errors = np.zeros((num_steps - window,))\n",
    "\n",
    "    for t in range(num_steps - window):\n",
    "        idxs = np.arange(t,t+window,window//pred_x.shape[1])\n",
    "        errors[t] = rmse(np.array([env[idxs,0] - pred_x[t,:], env[idxs,1] - pred_y[t,:]]))\n",
    "    ### end for\n",
    "\n",
    "    smoothed_errors = smooth(errors, int(2 * window))\n",
    "    max_time = min(time.shape[0], smoothed_errors.shape[0])\n",
    "    \n",
    "    return smoothed_errors, max_time\n",
    "lmu_smoothed_errors, lmu_max_time = smooth_error(lmu_env, lmu_pred_x, lmu_pred_y, lmu_time, window)\n",
    "ssp_smoothed_errors, ssp_max_time = smooth_error(ssp_env, ssp_pred_x, ssp_pred_y, ssp_time, window)"
   ]
  },
  {
   "cell_type": "code",
   "execution_count": 88,
   "metadata": {},
   "outputs": [
    {
     "name": "stdout",
     "output_type": "stream",
     "text": [
      "Saving to llp_ball_prediction_figure.large.pdf\n"
     ]
    },
    {
     "name": "stderr",
     "output_type": "stream",
     "text": [
      "/home/furlong/projects/cnrg/brain_sciences_biological_computation_2022/figures/../scripts/figure_utils.py:45: UserWarning: This figure includes Axes that are not compatible with tight_layout, so results might be incorrect.\n",
      "  fig.savefig(target,\n"
     ]
    },
    {
     "name": "stdout",
     "output_type": "stream",
     "text": [
      "Extracting bounding box of file llp_ball_prediction_figure.large.pdf\n",
      "Optimising PDF and saving to llp_ball_prediction_figure.pdf\n"
     ]
    },
    {
     "name": "stderr",
     "output_type": "stream",
     "text": [
      "GPL Ghostscript 9.50: Can't embed the complete font LinBiolinumTB as it is too large, embedding a subset.\n",
      "GPL Ghostscript 9.50: Can't embed the complete font LinBiolinumT as it is too large, embedding a subset.\n",
      "GPL Ghostscript 9.50: Can't embed the complete font LibertinusT1Math as it is too large, embedding a subset.\n",
      "/home/furlong/installed/miniconda3/lib/python3.8/site-packages/IPython/core/pylabtools.py:151: UserWarning: This figure includes Axes that are not compatible with tight_layout, so results might be incorrect.\n",
      "  fig.canvas.print_figure(bytes_io, **kw)\n"
     ]
    },
    {
     "data": {
      "image/png": "[encoded data removed]",
      "text/plain": [
       "<Figure size 1150x990 with 3 Axes>"
      ]
     },
     "metadata": {},
     "output_type": "display_data"
    }
   ],
   "source": [
    "early_idx=250\n",
    "late_idx=-750\n",
    "\n",
    "import matplotlib.gridspec as gridspec\n",
    "\n",
    "fig = plt.figure(figsize=(5.75, 3*1.65), tight_layout=True)\n",
    "gs = gridspec.GridSpec(2, 2, wspace=0.4, hspace=0.5, width_ratios=[1,1])\n",
    "\n",
    "# Figure 1.a - Early Predictions\n",
    "\n",
    "ax1 = fig.add_subplot(gs[0,0])\n",
    "\n",
    "ax1.plot(lmu_env[early_idx:early_idx+window,0], lmu_env[early_idx:early_idx+window,1], c='black', ls='--', label='Truth Path')\n",
    "ax1.scatter(lmu_env[early_idx,0], lmu_env[early_idx,1],c='black', label='Current Position')\n",
    "ax1.scatter(lmu_env[early_idx-100,0], lmu_env[early_idx-100,1], c='black', alpha=0.5)\n",
    "ax1.scatter(lmu_env[early_idx-200,0], lmu_env[early_idx-200,1], c='black', alpha=0.2)\n",
    "\n",
    "ax1.scatter(lmu_pred_x[early_idx,:], lmu_pred_y[early_idx,:], s=4, marker='o', c='tab:blue', label='LMU Prediction')\n",
    "ax1.scatter(ssp_pred_x[early_idx,:], ssp_pred_y[early_idx,:], s=4, marker='^', c='tab:orange', label='SSP Prediction')\n",
    "\n",
    "\n",
    "ax1.set_xticks([])\n",
    "ax1.set_xlim(-1,1)\n",
    "\n",
    "ax1.set_yticks([])\n",
    "ax1.set_ylim(-1,1)\n",
    "ax1.spines['right'].set_visible(True)\n",
    "ax1.spines['top'].set_visible(True)\n",
    "\n",
    "ax1.legend(loc=\"upper center\", ncol=4, bbox_to_anchor=(1.25, -0.03), columnspacing=1.0, handlelength=2, handletextpad=0.5)\n",
    "ax1.set_title(f'Before Learning', x=0.5, y=1., va=\"bottom\")\n",
    "ax1.text(-0.2,\n",
    "         1.0555,\n",
    "         '\\\\textbf{A}',\n",
    "         fontsize=12,\n",
    "         transform=ax1.transAxes,\n",
    "         va=\"bottom\")\n",
    "\n",
    "\n",
    "### Figure 2 -- Late predictions\n",
    "ax2 = fig.add_subplot(gs[0,1])\n",
    "\n",
    "#ax2.plot(time[:max_steps], mean_se[:max_steps] / np.mean(target_vals), label='Prediction Error', ls=line_styles[0])\n",
    "\n",
    "#ax2.scatter(env[late_idx,0], env[late_idx,1])\n",
    "ax2.scatter(lmu_env[late_idx,0], lmu_env[late_idx,1],c='black')\n",
    "ax2.scatter(lmu_env[late_idx-100,0], lmu_env[late_idx-100,1], c='black', alpha=0.5)\n",
    "ax2.scatter(lmu_env[late_idx-200,0], lmu_env[late_idx-200,1], c='black', alpha=0.2)\n",
    "ax2.plot(lmu_env[late_idx:late_idx+window,0], lmu_env[late_idx:late_idx+window,1], c='black', ls='--', label='Ground Truth')\n",
    "ax2.scatter(lmu_pred_x[late_idx,:], lmu_pred_y[late_idx,:], \n",
    "         s=4, \n",
    "         marker='o', \n",
    "         c='tab:blue', label='LMU Prediction')\n",
    "ax2.scatter(ssp_pred_x[late_idx,:], ssp_pred_y[late_idx,:], \n",
    "         s=4, \n",
    "         marker='^', \n",
    "         c='tab:orange', label='SSP Prediction')\n",
    "\n",
    "ax2.set_xticks([])\n",
    "ax2.set_xlim(-1,1)\n",
    "\n",
    "ax2.set_yticks([])\n",
    "ax2.set_ylim(-1,1)\n",
    "\n",
    "ax2.spines['right'].set_visible(True)\n",
    "ax2.spines['top'].set_visible(True)\n",
    "\n",
    "num_steps = lmu_env.shape[0]\n",
    "#ax2.legend(loc=\"upper center\", ncol=1, bbox_to_anchor=(0.5, 1.1), columnspacing=1.0, handlelength=2, handletextpad=0.5)\n",
    "ax2.set_title(f'After Learning', x=0.5, y=1., va=\"bottom\")\n",
    "ax2.text(-0.2,\n",
    "         1.0555,\n",
    "         '\\\\textbf{B}',\n",
    "         fontsize=12,\n",
    "         transform=ax2.transAxes,\n",
    "         va=\"bottom\")\n",
    "\n",
    "\n",
    "### Figure 3 -- Reduction\n",
    "ax3 = fig.add_subplot(gs[1, :])\n",
    "max_time = min(lmu_max_time, ssp_max_time)\n",
    "ax3.plot(lmu_time[:max_time], lmu_smoothed_errors[:max_time], label='LLP + LMU Context')\n",
    "ax3.plot(ssp_time[:max_time], ssp_smoothed_errors[:max_time], label='LLP + SSP Context')\n",
    "ax3.set_xlabel('Time (sec)')\n",
    "ax3.set_ylabel('Prediction RMSE (a.u.)')\n",
    "ax3.set_title('Prediction Error vs Time', x=0.5, y=1., va=\"bottom\")\n",
    "ax3.text(-0.09,\n",
    "         1.0555,\n",
    "         '\\\\textbf{C}',\n",
    "         fontsize=12,\n",
    "         transform=ax3.transAxes,\n",
    "         va=\"bottom\")\n",
    "ax3.legend(loc=\"upper center\", ncol=1, bbox_to_anchor=(0.75, 1.), columnspacing=1.0, handlelength=2, handletextpad=0.5)\n",
    "\n",
    "fig.align_labels()  # same as fig.align_xlabels(); fig.align_ylabels()\n",
    "\n",
    "\n",
    "utils.save(fig, \"llp_ball_prediction_figure.pdf\")"
   ]
  }
 ],
 "metadata": {
  "kernelspec": {
   "display_name": "Python 3 (ipykernel)",
   "language": "python",
   "name": "python3"
  },
  "language_info": {
   "codemirror_mode": {
    "name": "ipython",
    "version": 3
   },
   "file_extension": ".py",
   "mimetype": "text/x-python",
   "name": "python",
   "nbconvert_exporter": "python",
   "pygments_lexer": "ipython3",
   "version": "3.8.13"
  }
 },
 "nbformat": 4,
 "nbformat_minor": 4
}

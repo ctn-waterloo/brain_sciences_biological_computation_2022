{
 "cells": [
  {
   "cell_type": "code",
   "execution_count": 2,
   "metadata": {},
   "outputs": [],
   "source": [
    "import sys, os\n",
    "sys.path.append(os.path.join('..', 'scripts'))\n",
    "sys.path.append(os.path.join('..', 'scripts/llp_bouncing'))\n",
    "import figure_utils as utils\n",
    "import lif_utils\n",
    "import predict_llp\n",
    "\n",
    "import numpy as np\n",
    "import matplotlib as mpl\n",
    "import matplotlib.pyplot as plt\n",
    "import matplotlib.cm as cm\n",
    "\n",
    "import pandas as pd\n",
    "import pytry\n",
    "import os.path\n",
    "\n",
    "import glob"
   ]
  },
  {
   "cell_type": "code",
   "execution_count": 17,
   "metadata": {},
   "outputs": [
    {
     "data": {
      "application/vdom.v1+json": {
       "attributes": {},
       "tagName": "div"
      },
      "text/html": [
       "\n",
       "                <script>\n",
       "                    if (Jupyter.version.split(\".\")[0] < 5) {\n",
       "                        var pb = document.getElementById(\"934bf83d-ee39-4313-a4ec-c6cdf036685d\");\n",
       "                        var text = document.createTextNode(\n",
       "                            \"HMTL progress bar requires Jupyter Notebook >= \" +\n",
       "                            \"5.0 or Jupyter Lab. Alternatively, you can use \" +\n",
       "                            \"TerminalProgressBar().\");\n",
       "                        pb.parentNode.insertBefore(text, pb);\n",
       "                    }\n",
       "                </script>\n",
       "                <div id=\"934bf83d-ee39-4313-a4ec-c6cdf036685d\" style=\"\n",
       "                    width: 100%;\n",
       "                    border: 1px solid #cfcfcf;\n",
       "                    border-radius: 4px;\n",
       "                    text-align: center;\n",
       "                    position: relative;\">\n",
       "                  <div class=\"pb-text\" style=\"\n",
       "                      position: absolute;\n",
       "                      width: 100%;\">\n",
       "                    0%\n",
       "                  </div>\n",
       "                  <div class=\"pb-fill\" style=\"\n",
       "                      background-color: #bdd2e6;\n",
       "                      width: 0%;\">\n",
       "                    <style type=\"text/css\" scoped=\"scoped\">\n",
       "                        @keyframes pb-fill-anim {\n",
       "                            0% { background-position: 0 0; }\n",
       "                            100% { background-position: 100px 0; }\n",
       "                        }\n",
       "                    </style>\n",
       "                    &nbsp;\n",
       "                  </div>\n",
       "                </div>"
      ],
      "text/plain": [
       "HtmlProgressBar cannot be displayed. Please use the TerminalProgressBar. It can be enabled with `nengo.rc['progress']['progress_bar'] = 'nengo.utils.progress.TerminalProgressBar'`."
      ]
     },
     "metadata": {},
     "output_type": "display_data"
    },
    {
     "data": {
      "application/vdom.v1+json": {
       "attributes": {
        "id": "92e5d6d8-f6f2-4975-8c5e-7e222e712d46",
        "style": {
         "border": "1px solid #cfcfcf",
         "borderRadius": "4px",
         "boxSizing": "border-box",
         "position": "relative",
         "textAlign": "center",
         "width": "100%"
        }
       },
       "children": [
        {
         "attributes": {
          "class": "pb-text",
          "style": {
           "position": "absolute",
           "width": "100%"
          }
         },
         "children": [
          "Build finished in 0:00:01."
         ],
         "tagName": "div"
        },
        {
         "attributes": {
          "class": "pb-fill",
          "style": {
           "animation": "none",
           "backgroundColor": "#bdd2e6",
           "backgroundImage": "none",
           "backgroundSize": "100px 100%",
           "width": "100%"
          }
         },
         "children": [
          {
           "attributes": {
            "scoped": "scoped",
            "type": "text/css"
           },
           "children": [
            "\n                        @keyframes pb-fill-anim {\n                            0% { background-position: 0 0; }\n                            100% { background-position: 100px 0; }\n                        }}"
           ],
           "tagName": "style"
          },
          " "
         ],
         "tagName": "div"
        }
       ],
       "tagName": "div"
      },
      "text/html": [
       "<script>\n",
       "              (function () {\n",
       "                  var root = document.getElementById('934bf83d-ee39-4313-a4ec-c6cdf036685d');\n",
       "                  var text = root.getElementsByClassName('pb-text')[0];\n",
       "                  var fill = root.getElementsByClassName('pb-fill')[0];\n",
       "\n",
       "                  text.innerHTML = 'Build finished in 0:00:01.';\n",
       "                  \n",
       "            fill.style.width = '100%';\n",
       "            fill.style.animation = 'pb-fill-anim 2s linear infinite';\n",
       "            fill.style.backgroundSize = '100px 100%';\n",
       "            fill.style.backgroundImage = 'repeating-linear-gradient(' +\n",
       "                '90deg, #bdd2e6, #edf2f8 40%, #bdd2e6 80%, #bdd2e6)';\n",
       "        \n",
       "                  \n",
       "                fill.style.animation = 'none';\n",
       "                fill.style.backgroundImage = 'none';\n",
       "            \n",
       "              })();\n",
       "        </script>"
      ]
     },
     "metadata": {},
     "output_type": "display_data"
    },
    {
     "data": {
      "application/vdom.v1+json": {
       "attributes": {},
       "tagName": "div"
      },
      "text/html": [
       "\n",
       "                <script>\n",
       "                    if (Jupyter.version.split(\".\")[0] < 5) {\n",
       "                        var pb = document.getElementById(\"9332b2da-0f3c-4761-b2b6-67de0b250b4d\");\n",
       "                        var text = document.createTextNode(\n",
       "                            \"HMTL progress bar requires Jupyter Notebook >= \" +\n",
       "                            \"5.0 or Jupyter Lab. Alternatively, you can use \" +\n",
       "                            \"TerminalProgressBar().\");\n",
       "                        pb.parentNode.insertBefore(text, pb);\n",
       "                    }\n",
       "                </script>\n",
       "                <div id=\"9332b2da-0f3c-4761-b2b6-67de0b250b4d\" style=\"\n",
       "                    width: 100%;\n",
       "                    border: 1px solid #cfcfcf;\n",
       "                    border-radius: 4px;\n",
       "                    text-align: center;\n",
       "                    position: relative;\">\n",
       "                  <div class=\"pb-text\" style=\"\n",
       "                      position: absolute;\n",
       "                      width: 100%;\">\n",
       "                    0%\n",
       "                  </div>\n",
       "                  <div class=\"pb-fill\" style=\"\n",
       "                      background-color: #bdd2e6;\n",
       "                      width: 0%;\">\n",
       "                    <style type=\"text/css\" scoped=\"scoped\">\n",
       "                        @keyframes pb-fill-anim {\n",
       "                            0% { background-position: 0 0; }\n",
       "                            100% { background-position: 100px 0; }\n",
       "                        }\n",
       "                    </style>\n",
       "                    &nbsp;\n",
       "                  </div>\n",
       "                </div>"
      ],
      "text/plain": [
       "HtmlProgressBar cannot be displayed. Please use the TerminalProgressBar. It can be enabled with `nengo.rc['progress']['progress_bar'] = 'nengo.utils.progress.TerminalProgressBar'`."
      ]
     },
     "metadata": {},
     "output_type": "display_data"
    },
    {
     "data": {
      "application/vdom.v1+json": {
       "attributes": {
        "id": "3297347a-2abb-4e8e-9238-25cfaf3cc19e",
        "style": {
         "border": "1px solid #cfcfcf",
         "borderRadius": "4px",
         "boxSizing": "border-box",
         "position": "relative",
         "textAlign": "center",
         "width": "100%"
        }
       },
       "children": [
        {
         "attributes": {
          "class": "pb-text",
          "style": {
           "position": "absolute",
           "width": "100%"
          }
         },
         "children": [
          "Simulation finished in 0:03:05."
         ],
         "tagName": "div"
        },
        {
         "attributes": {
          "class": "pb-fill",
          "style": {
           "animation": "none",
           "backgroundColor": "#bdd2e6",
           "backgroundImage": "none",
           "transition": "width 0.1s linear",
           "width": "100%"
          }
         },
         "children": [
          {
           "attributes": {
            "scoped": "scoped",
            "type": "text/css"
           },
           "children": [
            "\n                        @keyframes pb-fill-anim {\n                            0% { background-position: 0 0; }\n                            100% { background-position: 100px 0; }\n                        }}"
           ],
           "tagName": "style"
          },
          " "
         ],
         "tagName": "div"
        }
       ],
       "tagName": "div"
      },
      "text/html": [
       "<script>\n",
       "              (function () {\n",
       "                  var root = document.getElementById('9332b2da-0f3c-4761-b2b6-67de0b250b4d');\n",
       "                  var text = root.getElementsByClassName('pb-text')[0];\n",
       "                  var fill = root.getElementsByClassName('pb-fill')[0];\n",
       "\n",
       "                  text.innerHTML = 'Simulation finished in 0:03:05.';\n",
       "                  \n",
       "            if (100.0 > 0.) {\n",
       "                fill.style.transition = 'width 0.1s linear';\n",
       "            } else {\n",
       "                fill.style.transition = 'none';\n",
       "            }\n",
       "\n",
       "            fill.style.width = '100.0%';\n",
       "            fill.style.animation = 'none';\n",
       "            fill.style.backgroundImage = 'none'\n",
       "        \n",
       "                  \n",
       "                fill.style.animation = 'none';\n",
       "                fill.style.backgroundImage = 'none';\n",
       "            \n",
       "              })();\n",
       "        </script>"
      ]
     },
     "metadata": {},
     "output_type": "display_data"
    }
   ],
   "source": [
    "time, env, pred_x, pred_y = predict_llp.run_trial(q=10,theta=0.5,pred_steps=10,duration=400)"
   ]
  },
  {
   "cell_type": "code",
   "execution_count": 66,
   "metadata": {},
   "outputs": [
    {
     "data": {
      "text/plain": [
       "array([  1,  11,  21,  31,  41,  51,  61,  71,  81,  91, 101, 111, 121,\n",
       "       131, 141, 151, 161, 171, 181, 191, 201, 211, 221, 231, 241, 251,\n",
       "       261, 271, 281, 291, 301, 311, 321, 331, 341, 351, 361, 371, 381,\n",
       "       391, 401, 411, 421, 431, 441, 451, 461, 471, 481, 491])"
      ]
     },
     "execution_count": 66,
     "metadata": {},
     "output_type": "execute_result"
    }
   ],
   "source": [
    "np.arange(1,500,10)"
   ]
  },
  {
   "cell_type": "code",
   "execution_count": 69,
   "metadata": {},
   "outputs": [],
   "source": [
    "dt=1e-3\n",
    "window=int(0.5/dt)\n",
    "num_steps = env.shape[0]\n",
    "\n",
    "real_xs = env[:,0]\n",
    "real_ys = env[:,1]\n",
    "errors = np.zeros((num_steps - window,))\n",
    "\n",
    "def rmse(xs):\n",
    "    return np.sqrt(np.mean(np.power(xs,2)))\n",
    "\n",
    "def smooth(x, window_len):\n",
    "    s=np.r_[x[window_len-1:0:-1],x,x[-2:-window_len-1:-1]]\n",
    "    w=np.ones(window_len,'d')\n",
    "\n",
    "    return np.convolve(w/w.sum(),s,mode='valid')\n",
    "### end smooth\n",
    "\n",
    "\n",
    "for t in range(num_steps - window):\n",
    "    idxs = np.arange(t,t+window,window//pred_x.shape[1])\n",
    "    errors[t] = rmse(np.array([env[idxs,0] - pred_x[t,:], env[idxs,1] - pred_y[t,:]]))\n",
    "### end for\n",
    "\n",
    "smoothed_errors = smooth(errors, int(2 * window))\n",
    "max_time = min(time.shape[0], smoothed_errors.shape[0])"
   ]
  },
  {
   "cell_type": "code",
   "execution_count": 136,
   "metadata": {},
   "outputs": [
    {
     "name": "stdout",
     "output_type": "stream",
     "text": [
      "Saving to llp_ball_prediction_figure.large.pdf\n",
      "Extracting bounding box of file llp_ball_prediction_figure.large.pdf\n",
      "Optimising PDF and saving to llp_ball_prediction_figure.pdf\n"
     ]
    },
    {
     "data": {
      "image/png": "[encoded data removed]",
      "text/plain": [
       "<Figure size 1150x380 with 3 Axes>"
      ]
     },
     "metadata": {},
     "output_type": "display_data"
    }
   ],
   "source": [
    "early_idx=250\n",
    "late_idx=-750\n",
    "\n",
    "fig, (ax1, ax2, ax3) = plt.subplots(1, 3,\n",
    "                            figsize=(5.75, 1.9),\n",
    "                            gridspec_kw={\n",
    "                                \"wspace\": 0.4,\n",
    "                                \"width_ratios\": [1, 1, 1.5]\n",
    "                            }\n",
    "                            )\n",
    "\n",
    "\n",
    "max_steps = 50 * 1000    \n",
    "line_styles = {0:'solid', 1:'dashed', 2:'dotted', 3:'dashdot'}\n",
    "# Figure 1.a - Early Predictions\n",
    "\n",
    "ax1.plot(env[early_idx:early_idx+window,0], env[early_idx:early_idx+window,1], c='tab:blue', ls='--', label='Truth Path')\n",
    "ax1.scatter(env[early_idx,0], env[early_idx,1],c='tab:blue', label='Current Position')\n",
    "ax1.scatter(env[early_idx-100,0], env[early_idx-100,1], c='tab:blue', alpha=0.5)\n",
    "ax1.scatter(env[early_idx-200,0], env[early_idx-200,1], c='tab:blue', alpha=0.2)\n",
    "\n",
    "ax1.scatter(pred_x[early_idx,:], pred_y[early_idx,:], s=4, c='tab:orange', label='Prediction')\n",
    "\n",
    "        \n",
    "#ax1.set_ylabel('$f(t)$ (a.u.)')\n",
    "#ax1.set_xlabel('Sample Number ($n$)')\n",
    "ax1.set_xticks([])\n",
    "ax1.set_xlim(-1,1)\n",
    "\n",
    "ax1.set_yticks([])\n",
    "ax1.set_ylim(-1,1)\n",
    "ax1.spines['right'].set_visible(True)\n",
    "ax1.spines['top'].set_visible(True)\n",
    "#ax1.set_title(f'Average Regret')\n",
    "\n",
    "ax1.legend(loc=\"upper center\", ncol=3, bbox_to_anchor=(1.25, -0.1), columnspacing=1.0, handlelength=2, handletextpad=0.5)\n",
    "ax1.set_title(f'Prediction at t={early_idx*dt}', x=0.5, y=1., va=\"bottom\")\n",
    "\n",
    "\n",
    "### Figure 2 -- Late predictions\n",
    "\n",
    "#ax2.plot(time[:max_steps], mean_se[:max_steps] / np.mean(target_vals), label='Prediction Error', ls=line_styles[0])\n",
    "\n",
    "#ax2.scatter(env[late_idx,0], env[late_idx,1])\n",
    "ax2.scatter(env[late_idx,0], env[late_idx,1],c='tab:blue')\n",
    "ax2.scatter(env[late_idx-100,0], env[late_idx-100,1], c='tab:blue', alpha=0.5)\n",
    "ax2.scatter(env[late_idx-200,0], env[late_idx-200,1], c='tab:blue', alpha=0.2)\n",
    "ax2.plot(env[late_idx:late_idx+window,0], env[late_idx:late_idx+window,1], ls='--', label='Ground Truth')\n",
    "ax2.scatter(pred_x[late_idx,:], pred_y[late_idx,:], s=4, c='tab:orange', label='Prediction')\n",
    "\n",
    "ax2.set_xticks([])\n",
    "ax2.set_xlim(-1,1)\n",
    "\n",
    "ax2.set_yticks([])\n",
    "ax2.set_ylim(-1,1)\n",
    "\n",
    "ax2.spines['right'].set_visible(True)\n",
    "ax2.spines['top'].set_visible(True)\n",
    "\n",
    "num_steps = env.shape[0]\n",
    "#ax2.legend(loc=\"upper center\", ncol=1, bbox_to_anchor=(0.5, 1.1), columnspacing=1.0, handlelength=2, handletextpad=0.5)\n",
    "ax2.set_title(f'Prediction at t={(num_steps+late_idx)*dt}', x=0.5, y=1., va=\"bottom\")\n",
    "\n",
    "\n",
    "### Figure 3 -- Reduction\n",
    "\n",
    "ax3.plot(time[:max_time], smoothed_errors[:max_time])\n",
    "ax3.set_xlabel('Time (sec)')\n",
    "ax3.set_ylabel('Prediction RMSE (a.u.)')\n",
    "ax3.set_title('Prediction Error vs Time', x=0.5, y=1., va=\"bottom\")\n",
    "\n",
    "            \n",
    "utils.save(fig, \"llp_ball_prediction_figure.pdf\")"
   ]
  }
 ],
 "metadata": {
  "kernelspec": {
   "display_name": "Python 3",
   "language": "python",
   "name": "python3"
  },
  "language_info": {
   "codemirror_mode": {
    "name": "ipython",
    "version": 3
   },
   "file_extension": ".py",
   "mimetype": "text/x-python",
   "name": "python",
   "nbconvert_exporter": "python",
   "pygments_lexer": "ipython3",
   "version": "3.8.5"
  }
 },
 "nbformat": 4,
 "nbformat_minor": 4
}

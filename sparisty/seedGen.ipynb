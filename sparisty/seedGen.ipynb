{
 "cells": [
  {
   "cell_type": "code",
   "execution_count": 1,
   "id": "cee3c188",
   "metadata": {},
   "outputs": [],
   "source": [
    "import random\n",
    "seeds = []\n",
    "for i in range(20):\n",
    "    s = random.randint(0,1000)\n",
    "    if s not in seeds:\n",
    "        seeds.append(random.randint(0,1000))\n",
    "    else: continue"
   ]
  },
  {
   "cell_type": "code",
   "execution_count": 2,
   "id": "9277d731",
   "metadata": {},
   "outputs": [
    {
     "data": {
      "text/plain": [
       "[362,\n",
       " 337,\n",
       " 504,\n",
       " 428,\n",
       " 351,\n",
       " 305,\n",
       " 824,\n",
       " 281,\n",
       " 324,\n",
       " 538,\n",
       " 386,\n",
       " 313,\n",
       " 896,\n",
       " 553,\n",
       " 706,\n",
       " 557,\n",
       " 363,\n",
       " 727,\n",
       " 423,\n",
       " 993]"
      ]
     },
     "execution_count": 2,
     "metadata": {},
     "output_type": "execute_result"
    }
   ],
   "source": [
    "seeds"
   ]
  },
  {
   "cell_type": "code",
   "execution_count": null,
   "id": "d8a0dcb3",
   "metadata": {},
   "outputs": [],
   "source": []
  }
 ],
 "metadata": {
  "kernelspec": {
   "display_name": "Python 3 (ipykernel)",
   "language": "python",
   "name": "python3"
  },
  "language_info": {
   "codemirror_mode": {
    "name": "ipython",
    "version": 3
   },
   "file_extension": ".py",
   "mimetype": "text/x-python",
   "name": "python",
   "nbconvert_exporter": "python",
   "pygments_lexer": "ipython3",
   "version": "3.9.7"
  }
 },
 "nbformat": 4,
 "nbformat_minor": 5
}
